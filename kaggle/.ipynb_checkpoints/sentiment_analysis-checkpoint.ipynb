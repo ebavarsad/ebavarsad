{
 "cells": [
  {
   "cell_type": "markdown",
   "id": "9d2fce35",
   "metadata": {},
   "source": [
    "# Sentiment Analysis on Airline Tweets From Customers"
   ]
  },
  {
   "cell_type": "markdown",
   "id": "31214765",
   "metadata": {},
   "source": [
    "## 1. Introduction and Data Exploratory"
   ]
  },
  {
   "cell_type": "markdown",
   "id": "edae5cd2",
   "metadata": {},
   "source": [
    "In this project, we explore real-world Twitter data about major US airlines that are marked with a sentiment value.  We are going to model a sentiment analyzer to determine the sentiment of any post.  We use a dataset of airline-related tweets originally published on Kaggle. This dataset includes thousands of tweets labeled by sentiment, offering a rich opportunity to apply Natural Language Processing (NLP) techniques.  The ability to determine the sentiment of reviews by consumers will allow companies to improve on their own practices, as they discover insights with the use of data science.\n",
    "\n",
    "We will upload the dataset.  Along with Tweets.csv, there was also a database I could use SQL on to find data, but the query would have been trivial and the code is faster with a .csv instead of a .sqlite"
   ]
  },
  {
   "cell_type": "code",
   "execution_count": 1,
   "id": "e1fa03d6",
   "metadata": {},
   "outputs": [
    {
     "data": {
      "text/html": [
       "<div>\n",
       "<style scoped>\n",
       "    .dataframe tbody tr th:only-of-type {\n",
       "        vertical-align: middle;\n",
       "    }\n",
       "\n",
       "    .dataframe tbody tr th {\n",
       "        vertical-align: top;\n",
       "    }\n",
       "\n",
       "    .dataframe thead th {\n",
       "        text-align: right;\n",
       "    }\n",
       "</style>\n",
       "<table border=\"1\" class=\"dataframe\">\n",
       "  <thead>\n",
       "    <tr style=\"text-align: right;\">\n",
       "      <th></th>\n",
       "      <th>tweet_id</th>\n",
       "      <th>airline_sentiment</th>\n",
       "      <th>airline_sentiment_confidence</th>\n",
       "      <th>negativereason</th>\n",
       "      <th>negativereason_confidence</th>\n",
       "      <th>airline</th>\n",
       "      <th>airline_sentiment_gold</th>\n",
       "      <th>name</th>\n",
       "      <th>negativereason_gold</th>\n",
       "      <th>retweet_count</th>\n",
       "      <th>text</th>\n",
       "      <th>tweet_coord</th>\n",
       "      <th>tweet_created</th>\n",
       "      <th>tweet_location</th>\n",
       "      <th>user_timezone</th>\n",
       "    </tr>\n",
       "  </thead>\n",
       "  <tbody>\n",
       "    <tr>\n",
       "      <th>0</th>\n",
       "      <td>570306133677760513</td>\n",
       "      <td>neutral</td>\n",
       "      <td>1.0000</td>\n",
       "      <td>NaN</td>\n",
       "      <td>NaN</td>\n",
       "      <td>Virgin America</td>\n",
       "      <td>NaN</td>\n",
       "      <td>cairdin</td>\n",
       "      <td>NaN</td>\n",
       "      <td>0</td>\n",
       "      <td>@VirginAmerica What @dhepburn said.</td>\n",
       "      <td>NaN</td>\n",
       "      <td>2015-02-24 11:35:52 -0800</td>\n",
       "      <td>NaN</td>\n",
       "      <td>Eastern Time (US &amp; Canada)</td>\n",
       "    </tr>\n",
       "    <tr>\n",
       "      <th>1</th>\n",
       "      <td>570301130888122368</td>\n",
       "      <td>positive</td>\n",
       "      <td>0.3486</td>\n",
       "      <td>NaN</td>\n",
       "      <td>0.0000</td>\n",
       "      <td>Virgin America</td>\n",
       "      <td>NaN</td>\n",
       "      <td>jnardino</td>\n",
       "      <td>NaN</td>\n",
       "      <td>0</td>\n",
       "      <td>@VirginAmerica plus you've added commercials t...</td>\n",
       "      <td>NaN</td>\n",
       "      <td>2015-02-24 11:15:59 -0800</td>\n",
       "      <td>NaN</td>\n",
       "      <td>Pacific Time (US &amp; Canada)</td>\n",
       "    </tr>\n",
       "    <tr>\n",
       "      <th>2</th>\n",
       "      <td>570301083672813571</td>\n",
       "      <td>neutral</td>\n",
       "      <td>0.6837</td>\n",
       "      <td>NaN</td>\n",
       "      <td>NaN</td>\n",
       "      <td>Virgin America</td>\n",
       "      <td>NaN</td>\n",
       "      <td>yvonnalynn</td>\n",
       "      <td>NaN</td>\n",
       "      <td>0</td>\n",
       "      <td>@VirginAmerica I didn't today... Must mean I n...</td>\n",
       "      <td>NaN</td>\n",
       "      <td>2015-02-24 11:15:48 -0800</td>\n",
       "      <td>Lets Play</td>\n",
       "      <td>Central Time (US &amp; Canada)</td>\n",
       "    </tr>\n",
       "    <tr>\n",
       "      <th>3</th>\n",
       "      <td>570301031407624196</td>\n",
       "      <td>negative</td>\n",
       "      <td>1.0000</td>\n",
       "      <td>Bad Flight</td>\n",
       "      <td>0.7033</td>\n",
       "      <td>Virgin America</td>\n",
       "      <td>NaN</td>\n",
       "      <td>jnardino</td>\n",
       "      <td>NaN</td>\n",
       "      <td>0</td>\n",
       "      <td>@VirginAmerica it's really aggressive to blast...</td>\n",
       "      <td>NaN</td>\n",
       "      <td>2015-02-24 11:15:36 -0800</td>\n",
       "      <td>NaN</td>\n",
       "      <td>Pacific Time (US &amp; Canada)</td>\n",
       "    </tr>\n",
       "    <tr>\n",
       "      <th>4</th>\n",
       "      <td>570300817074462722</td>\n",
       "      <td>negative</td>\n",
       "      <td>1.0000</td>\n",
       "      <td>Can't Tell</td>\n",
       "      <td>1.0000</td>\n",
       "      <td>Virgin America</td>\n",
       "      <td>NaN</td>\n",
       "      <td>jnardino</td>\n",
       "      <td>NaN</td>\n",
       "      <td>0</td>\n",
       "      <td>@VirginAmerica and it's a really big bad thing...</td>\n",
       "      <td>NaN</td>\n",
       "      <td>2015-02-24 11:14:45 -0800</td>\n",
       "      <td>NaN</td>\n",
       "      <td>Pacific Time (US &amp; Canada)</td>\n",
       "    </tr>\n",
       "  </tbody>\n",
       "</table>\n",
       "</div>"
      ],
      "text/plain": [
       "             tweet_id airline_sentiment  airline_sentiment_confidence  \\\n",
       "0  570306133677760513           neutral                        1.0000   \n",
       "1  570301130888122368          positive                        0.3486   \n",
       "2  570301083672813571           neutral                        0.6837   \n",
       "3  570301031407624196          negative                        1.0000   \n",
       "4  570300817074462722          negative                        1.0000   \n",
       "\n",
       "  negativereason  negativereason_confidence         airline  \\\n",
       "0            NaN                        NaN  Virgin America   \n",
       "1            NaN                     0.0000  Virgin America   \n",
       "2            NaN                        NaN  Virgin America   \n",
       "3     Bad Flight                     0.7033  Virgin America   \n",
       "4     Can't Tell                     1.0000  Virgin America   \n",
       "\n",
       "  airline_sentiment_gold        name negativereason_gold  retweet_count  \\\n",
       "0                    NaN     cairdin                 NaN              0   \n",
       "1                    NaN    jnardino                 NaN              0   \n",
       "2                    NaN  yvonnalynn                 NaN              0   \n",
       "3                    NaN    jnardino                 NaN              0   \n",
       "4                    NaN    jnardino                 NaN              0   \n",
       "\n",
       "                                                text tweet_coord  \\\n",
       "0                @VirginAmerica What @dhepburn said.         NaN   \n",
       "1  @VirginAmerica plus you've added commercials t...         NaN   \n",
       "2  @VirginAmerica I didn't today... Must mean I n...         NaN   \n",
       "3  @VirginAmerica it's really aggressive to blast...         NaN   \n",
       "4  @VirginAmerica and it's a really big bad thing...         NaN   \n",
       "\n",
       "               tweet_created tweet_location               user_timezone  \n",
       "0  2015-02-24 11:35:52 -0800            NaN  Eastern Time (US & Canada)  \n",
       "1  2015-02-24 11:15:59 -0800            NaN  Pacific Time (US & Canada)  \n",
       "2  2015-02-24 11:15:48 -0800      Lets Play  Central Time (US & Canada)  \n",
       "3  2015-02-24 11:15:36 -0800            NaN  Pacific Time (US & Canada)  \n",
       "4  2015-02-24 11:14:45 -0800            NaN  Pacific Time (US & Canada)  "
      ]
     },
     "execution_count": 1,
     "metadata": {},
     "output_type": "execute_result"
    }
   ],
   "source": [
    "import pandas as pd\n",
    "\n",
    "# load data into a dataframe\n",
    "twitter_posts = pd.read_csv('Tweets.csv')\n",
    "\n",
    "# header and 1st 10 rows\n",
    "twitter_posts.head()"
   ]
  },
  {
   "cell_type": "markdown",
   "id": "1bf079d7",
   "metadata": {},
   "source": [
    "Let's look at a pie chart of the sentiment distribution in the data."
   ]
  },
  {
   "cell_type": "code",
   "execution_count": 2,
   "id": "5b75df98",
   "metadata": {},
   "outputs": [
    {
     "data": {
      "image/png": "[encoded data removed]",
      "text/plain": [
       "<Figure size 600x600 with 1 Axes>"
      ]
     },
     "metadata": {},
     "output_type": "display_data"
    }
   ],
   "source": [
    "import matplotlib.pyplot as plt\n",
    "\n",
    "def piecharter(df, label_fonts):\n",
    "\n",
    "    # count the number for each type of sentiment\n",
    "    counts = df[\"airline_sentiment\"].value_counts()\n",
    "    total = counts.sum()\n",
    "    \n",
    "    # make labels of the counts\n",
    "    labels_raw = counts.index.tolist()\n",
    "    \n",
    "    # capitalize the labels\n",
    "    labels = [str(lbl).title() for lbl in labels_raw]\n",
    "    \n",
    "    # custom autopct to show count (percent %)\n",
    "    def make_autopct(values):\n",
    "        def autopct(pct):\n",
    "            count = int(round(pct*total/100.0))\n",
    "            return f\"{count} ({pct:.1f}%)\"\n",
    "        return autopct\n",
    "    \n",
    "    # 'negative', 'neutral', 'positive'\n",
    "    slice_colors = ['firebrick', 'plum', 'royalblue'] \n",
    "    \n",
    "    plt.figure(figsize = (6, 6))\n",
    "    wedges, texts, autotexts = plt.pie(\n",
    "                                    counts, \n",
    "                                    labels = labels, \n",
    "                                    colors = slice_colors,\n",
    "                                    autopct = make_autopct(counts),\n",
    "                                    startangle = 140, \n",
    "                                       wedgeprops = {'edgecolor': 'black'},\n",
    "                                       labeldistance = 1.05\n",
    "                                      )\n",
    "    \n",
    "    if label_fonts is None:\n",
    "        label_fonts = {}\n",
    "    for text, label in zip(texts, labels):\n",
    "        font = label_fonts.get(label, {'family':'sans-serif', 'size':10})\n",
    "        text.set_fontfamily(font.get('family', 'sans-serif'))\n",
    "        text.set_fontsize(font.get('size', 10))\n",
    "        text.set_fontweight(font.get('weight', 'normal'))\n",
    "    \n",
    "    # Also style the count/percent text inside slices\n",
    "    for autotext in autotexts:\n",
    "        autotext.set_fontsize(11)\n",
    "        autotext.set_fontfamily('serif')\n",
    "        autotext.set_fontweight('bold')\n",
    "    \n",
    "    plt.title(\"Sentiment Distribution for Airline Tweets \", fontsize=16, fontweight='bold')\n",
    "    plt.axis('equal')\n",
    "    plt.show()\n",
    "\n",
    "# font settings\n",
    "fonts = {\n",
    "    'Positive': {'family':'comic sans ms', 'size':14, 'weight':'normal'}, # playful\n",
    "    'Negative': {'family':'impact', 'size':13, 'weight':'normal'},          # strong\n",
    "    'Neutral': {'family':'verdana', 'size':12, 'weight':'light'}          #\n",
    "    }\n",
    "\n",
    "piecharter(twitter_posts, fonts)"
   ]
  },
  {
   "cell_type": "markdown",
   "id": "2bde52ec",
   "metadata": {},
   "source": [
    "An airline company that needed to improve to reduce the amount of negative feedback they are receiving would want to see what words are appearing in the negative tweets.  In order to productively do that, I am going to clean the text in the next section so we can see what words are appearing in the negative tweets."
   ]
  },
  {
   "cell_type": "markdown",
   "id": "e49e04b3",
   "metadata": {},
   "source": [
    "## 2.  Preparing the Text for Sentiment Analysis"
   ]
  },
  {
   "cell_type": "markdown",
   "id": "d88469f6",
   "metadata": {},
   "source": [
    "The next thing we wish to do is count the top five adjectives per sentiment type.  Before we can do that we need to clean the text like we are putting it through a word cleanser."
   ]
  },
  {
   "cell_type": "code",
   "execution_count": 3,
   "id": "16440949",
   "metadata": {},
   "outputs": [
    {
     "name": "stderr",
     "output_type": "stream",
     "text": [
      "[nltk_data] Downloading package stopwords to /Users/eb64/nltk_data...\n",
      "[nltk_data]   Package stopwords is already up-to-date!\n",
      "[nltk_data] Downloading package wordnet to /Users/eb64/nltk_data...\n",
      "[nltk_data]   Package wordnet is already up-to-date!\n"
     ]
    }
   ],
   "source": [
    "import re\n",
    "import nltk\n",
    "from nltk.corpus import stopwords\n",
    "from nltk.stem import WordNetLemmatizer\n",
    "\n",
    "# Make sure NLTK data is downloaded\n",
    "nltk.download('stopwords')\n",
    "nltk.download('wordnet')\n",
    "\n",
    "# Setup stopwords\n",
    "custom_stopwords = set(stopwords.words('english'))\n",
    "custom_stopwords.update(['u', 'im', 'ive', 'cant', 'dont', 'didnt', 'doesnt', 'wont', 'youre'])\n",
    "\n",
    "# Also filter out personal pronouns\n",
    "personal_pronouns = {'i', 'you', 'he', 'she', 'we', 'they', 'me', 'him', 'her', 'us', 'them'}\n",
    "\n",
    "# Lemmatizer\n",
    "lemmatizer = WordNetLemmatizer()\n",
    "\n",
    "def full_clean(text):\n",
    "    # Normalize common contractions\n",
    "    text = text.lower()\n",
    "    text = re.sub(r\"\\b(can't|cant)\\b\", 'cannot', text)\n",
    "    text = re.sub(r\"\\b(won't|wont)\\b\", 'will not', text)\n",
    "    text = re.sub(r\"\\b(i'm|im)\\b\", 'i am', text)\n",
    "    text = re.sub(r\"\\b(ive)\\b\", 'i have', text)\n",
    "    text = re.sub(r\"\\b(don't|dont)\\b\", 'do not', text)\n",
    "    text = re.sub(r\"\\b(doesn't|doesnt)\\b\", 'does not', text)\n",
    "    text = re.sub(r\"\\b(didn't|didnt)\\b\", 'did not', text)\n",
    "    text = re.sub(r\"\\b(you're|youre)\\b\", 'you are', text)\n",
    "\n",
    "    # Remove URLs, mentions, hashtags\n",
    "    text = re.sub(r\"http\\S+|www\\S+|https\\S+\", '', text)\n",
    "    text = re.sub(r'\\@\\w+|\\#','', text)\n",
    "\n",
    "    # Remove non-letters\n",
    "    text = re.sub(r'[^a-z\\s]', '', text)\n",
    "\n",
    "    # Tokenize and remove stopwords & short words\n",
    "    tokens = text.split()\n",
    "    tokens = [lemmatizer.lemmatize(w) for w in tokens \n",
    "              if w not in custom_stopwords and w not in personal_pronouns and len(w) > 2]\n",
    "    \n",
    "    return \" \".join(tokens)\n",
    "\n",
    "twitter_posts['clean_text'] = twitter_posts['text'].apply(full_clean)"
   ]
  },
  {
   "cell_type": "markdown",
   "id": "74b0ef73",
   "metadata": {},
   "source": [
    "Now we will count the words with nltk (Natural Language Toolkit).  This is a comprehensive Python library designed for working with human language data. It provides a robust set of tools and resources for various natural language processing (NLP) tasks.  In the following functiong we will count the top 5 adjectives per sentiment value."
   ]
  },
  {
   "cell_type": "code",
   "execution_count": 4,
   "id": "6a43884d",
   "metadata": {},
   "outputs": [
    {
     "name": "stderr",
     "output_type": "stream",
     "text": [
      "[nltk_data] Downloading package averaged_perceptron_tagger to\n",
      "[nltk_data]     /Users/eb64/nltk_data...\n",
      "[nltk_data]   Package averaged_perceptron_tagger is already up-to-\n",
      "[nltk_data]       date!\n",
      "[nltk_data] Downloading package punkt to /Users/eb64/nltk_data...\n",
      "[nltk_data]   Package punkt is already up-to-date!\n"
     ]
    },
    {
     "name": "stdout",
     "output_type": "stream",
     "text": [
      "\n",
      "Neutral:\n",
      "  new (77)\n",
      "  next (44)\n",
      "  last (43)\n",
      "  good (43)\n",
      "  first (34)\n",
      "\n",
      "Positive:\n",
      "  great (233)\n",
      "  good (106)\n",
      "  best (88)\n",
      "  awesome (80)\n",
      "  much (59)\n",
      "\n",
      "Negative:\n",
      "  late (313)\n",
      "  last (228)\n",
      "  flightled (226)\n",
      "  due (211)\n",
      "  worst (175)\n"
     ]
    }
   ],
   "source": [
    "import nltk\n",
    "from collections import Counter\n",
    "\n",
    "# \n",
    "nltk.download('averaged_perceptron_tagger')\n",
    "nltk.download('punkt')\n",
    "\n",
    "def top_adjectives_per_sentiment(df, top_n):\n",
    "\n",
    "    results = {}\n",
    "    \n",
    "    for sentiment in df['airline_sentiment'].unique():\n",
    "        \n",
    "        # grab the texr per sentiment\n",
    "        texts = df[df['airline_sentiment'] == sentiment]['clean_text']\n",
    "        words = []\n",
    "        for tweet in texts:\n",
    "            tokens = nltk.word_tokenize(tweet)\n",
    "            tagged = nltk.pos_tag(tokens)\n",
    "            words += [word for word, tag in tagged if tag.startswith('JJ')]\n",
    "        \n",
    "        top_words = Counter(words).most_common(top_n)\n",
    "        \n",
    "        results[sentiment.title()] = top_words\n",
    "        \n",
    "    for sentiment, words in results.items():\n",
    "        print(f\"\\n{sentiment}:\")\n",
    "        for word, count in words:\n",
    "            print(f\"  {word} ({count})\")        \n",
    "    return results\n",
    "\n",
    "\n",
    "top_adj = top_adjectives_per_sentiment(twitter_posts, 5)\n"
   ]
  },
  {
   "cell_type": "markdown",
   "id": "044b79d2",
   "metadata": {},
   "source": [
    "The negative posts have \"late\" as the most occuring word in the dataset.  So there's something they can fix.  Let's move forward to the sentiment analysis training."
   ]
  },
  {
   "cell_type": "markdown",
   "id": "dabbdd51",
   "metadata": {},
   "source": [
    "## 3. Using Machine Learning (ML) for Training "
   ]
  },
  {
   "cell_type": "markdown",
   "id": "951890bb",
   "metadata": {},
   "source": [
    "In this block, we prepare our text data for machine learning.  We use `TfidfVectorizer` from `scikit-learn` to convert the cleaned tweet text (`X`) into numerical vectors (`X_vect`).  TF-IDF (Term Frequency-Inverse Document Frequency) gives us a matrix that reflects how important each word is to a document relative to the text corpus.  We split our data into training and testing sets using `train_test_split`.  "
   ]
  },
  {
   "cell_type": "code",
   "execution_count": 5,
   "id": "69325644",
   "metadata": {},
   "outputs": [],
   "source": [
    "\n",
    "from sklearn.feature_extraction.text import TfidfVectorizer\n",
    "from sklearn.model_selection import train_test_split\n",
    "\n",
    "def train_test(df):\n",
    "\n",
    "    X = df['clean_text']\n",
    "    y = df['airline_sentiment']\n",
    "\n",
    "    tfidf = TfidfVectorizer(max_features=5000)\n",
    "    X_vect = tfidf.fit_transform(X)\n",
    "\n",
    "    # test_size = 0.2 -> keeps 20% of data for testing, 80% for training.  \n",
    "    #X_train, X_test, y_train, y_test = train_test_split(X_vect, y, \n",
    "    #                                                test_size = 0.2, \n",
    "    #                                                    random_state = 15, \n",
    "    #                                                    stratify = y)\n",
    "\n",
    "    return train_test_split(X_vect, y, test_size = 0.2, random_state = 15, stratify = y)\n",
    "\n",
    "splitted = train_test(twitter_posts)"
   ]
  },
  {
   "cell_type": "markdown",
   "id": "5eb99243",
   "metadata": {},
   "source": []
  },
  {
   "cell_type": "code",
   "execution_count": null,
   "id": "b9c30518",
   "metadata": {},
   "outputs": [],
   "source": []
  }
 ],
 "metadata": {
  "kernelspec": {
   "display_name": "Python [conda env:base] *",
   "language": "python",
   "name": "conda-base-py"
  },
  "language_info": {
   "codemirror_mode": {
    "name": "ipython",
    "version": 3
   },
   "file_extension": ".py",
   "mimetype": "text/x-python",
   "name": "python",
   "nbconvert_exporter": "python",
   "pygments_lexer": "ipython3",
   "version": "3.11.5"
  }
 },
 "nbformat": 4,
 "nbformat_minor": 5
}
